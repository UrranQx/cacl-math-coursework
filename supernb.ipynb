{
 "cells": [
  {
   "cell_type": "markdown",
   "source": [
    "\n",
    "# Задание N 05. Исследование зависимости светимости от температуры для абсолютно черного тела.\n",
    "\n",
    "Абсолютно черное тело излучает энергию пропорционально четвертой степени температуры\n",
    "$$ E = 36.9 * 10^{-12} T^4 $$\n",
    "(E-мощность излучения в вт/см, Т-температура в градусах Кельвина).\n",
    "Часть общей энергии, заключенная в видимом спектре частот, с длиной волны от $\\lambda_1$ до $\\lambda_2$ находится интегрированием уравнения Планка:\n",
    "\n",
    "$$\n",
    "E_{видимая} = E_{в} = \\int\\limits_{\\lambda_1}^{\\lambda_2} \n",
    "\\frac{2.39 * 10^{-11}dx}{x^{5}(e^{\\frac{1.432}{Tx}} - 1)} \n",
    "$$\n",
    "\n"
   ],
   "metadata": {
    "collapsed": false
   },
   "id": "461f9168c083d154"
  },
  {
   "cell_type": "markdown",
   "source": [
    "Тогда светимость (в процентах) рассчитывается по формуле:\n",
    "$$\n",
    "EFF = \\frac{E_{в}}{E} * 100\\% = \\frac{64.77}{T^4} * \\int\\limits_{\\lambda_1}^{\\lambda_2} \n",
    "\\frac{dx}{x^{5}(e^{\\frac{1.432}{Tx}} - 1)} \n",
    "$$\n"
   ],
   "metadata": {
    "collapsed": false
   },
   "id": "2cc036e2e95899c4"
  },
  {
   "cell_type": "markdown",
   "source": [
    "$$\n",
    "\\lambda_1 = y * 31.66675 * 10^{-5},\n",
    "        где\\ y\\ -\\ корень\\ уравнения:\n",
    "        \\\\2 * \\sqrt{x} = \\cos{\\frac{\\pi*x}{2}}\n",
    "        \\\\\n",
    "        y = x = 0.221050639495735\\ =>\n",
    "        \\\\ \\lambda_1 = 6.999955338251567 * 10^{-5}\n",
    "$$\n",
    "\n"
   ],
   "metadata": {
    "collapsed": false
   },
   "id": "86f26c05529b34a6"
  },
  {
   "cell_type": "markdown",
   "source": [
    "$$\n",
    "\\lambda_2 = - z * 3.039830 * 10^{-5},\n",
    "\\\\ где\\ z\\ -\\ значение,\\ минимизирующее\\ f(z)\\ на\\ [-2, -1]\n",
    "        \\\\ f(z) = (e^z)*(2*z^{2}-4) + (2*z^{2}-1)^{2} + e^{2*z} - 3*z^{4};\\ z = -1.3159745 =>\n",
    "        \\\\ \\lambda_2 = 4.000338764335*10^{-5}\n",
    "$$\n"
   ],
   "metadata": {
    "collapsed": false
   },
   "id": "c0e516f5508c39c5"
  },
  {
   "cell_type": "markdown",
   "source": [
    "#### Вычислить EFF в диапазоне температур от Т=1000 К до Т=9000 К с шагом 1000 К.\n",
    "\n",
    "**По полученным данным построить график светимости от\n",
    "температуры, взяв достаточное количество точек.**\n",
    "\n",
    "**Оценить погрешность результата и влияние на\n",
    "точность погрешности в задании $\\lambda_1$ и $\\lambda_2$**"
   ],
   "metadata": {
    "collapsed": false
   },
   "id": "3a739dc84d5657a4"
  },
  {
   "cell_type": "code",
   "outputs": [
    {
     "name": "stdout",
     "output_type": "stream",
     "text": [
      "We Begin\n"
     ]
    }
   ],
   "source": [
    "\"\"\"\n",
    "lambda1 = y * 31.66675 * 10**(-5),\n",
    "    где y - корень уравнения:\n",
    "    2 * sqrt(x) = cos((PI*x)/2)\n",
    "    x ~= 0.221050639495735\n",
    "\n",
    "lambda2 = -z * 3.039830 * 10**(-5),\n",
    "    где z - значение, минимизирующее f(z) на [-2, -1]\n",
    "    f(z) = (e**z)*(2*z**2-4) + (2*z**2-1)**2 + e**(2*z) - 3*z**4\n",
    "\n",
    "\n",
    "EFF = (E_в / E) * 100% =\n",
    "64.77 / (T**4) * (integrate from lambda1 to lambda 2:\n",
    "    dx / ((x**5) * (e**(1.432/(Tx)) - 1) )\n",
    "\"\"\"\n",
    "print(\"We Begin\")"
   ],
   "metadata": {
    "collapsed": false,
    "ExecuteTime": {
     "end_time": "2024-05-23T07:42:45.145863Z",
     "start_time": "2024-05-23T07:42:45.126004Z"
    }
   },
   "id": "43ffe0396fde2594",
   "execution_count": 1
  },
  {
   "cell_type": "markdown",
   "source": [
    "Напишем функции для нахождения x и z"
   ],
   "metadata": {
    "collapsed": false
   },
   "id": "805420adaec423e3"
  },
  {
   "cell_type": "code",
   "outputs": [],
   "source": [
    "import scipy.optimize as optimize\n",
    "from scipy.integrate import quad\n",
    "import numpy as np\n",
    "from math import sqrt, cos, pi\n",
    "\n",
    "accuracy = 1e-10\n",
    "\n",
    "\n",
    "def fun_x(x):\n",
    "    return 2 * sqrt(x[0]) - cos((pi * x[0]) / 2)\n",
    "\n",
    "\n",
    "def fun_z(z):\n",
    "    return (np.e ** z) * (2 * z ** 2 - 4) + (2 * z ** 2 - 1) ** 2 + np.e ** (2 * z) - 3 * z ** 4\n"
   ],
   "metadata": {
    "collapsed": false,
    "ExecuteTime": {
     "end_time": "2024-05-23T07:42:45.669780Z",
     "start_time": "2024-05-23T07:42:45.150335Z"
    }
   },
   "id": "28511ae6ab1fe97c",
   "execution_count": 2
  },
  {
   "cell_type": "markdown",
   "source": [
    "Найдем х используя метод fsolve"
   ],
   "metadata": {
    "collapsed": false
   },
   "id": "623b8ef04d264b5d"
  },
  {
   "cell_type": "code",
   "outputs": [
    {
     "name": "stdout",
     "output_type": "stream",
     "text": [
      "[0.22105064]\n"
     ]
    }
   ],
   "source": [
    "\n",
    "res_x = optimize.fsolve(fun_x, np.array([0]))\n",
    "print(res_x)\n",
    "# [0.22105064]"
   ],
   "metadata": {
    "collapsed": false,
    "ExecuteTime": {
     "end_time": "2024-05-23T07:42:45.675294Z",
     "start_time": "2024-05-23T07:42:45.670787Z"
    }
   },
   "id": "c02db429981882ba",
   "execution_count": 3
  },
  {
   "cell_type": "markdown",
   "source": [
    "Найдем значение z, минимизирующее f(z) на промежутке [-2,-1]"
   ],
   "metadata": {
    "collapsed": false
   },
   "id": "3314fed33a0107a8"
  },
  {
   "cell_type": "code",
   "outputs": [
    {
     "name": "stdout",
     "output_type": "stream",
     "text": [
      "[-1.3159745]\n"
     ]
    }
   ],
   "source": [
    "lower_bound = -2\n",
    "upper_bound = -1\n",
    "bounds = optimize.Bounds(lower_bound, upper_bound)\n",
    "res_z = optimize.minimize(fun_z,\n",
    "                          np.array((lower_bound + upper_bound) / 2),\n",
    "                          bounds=bounds,\n",
    "                          method='TNC',\n",
    "                          tol=accuracy).x\n",
    "print(res_z)\n",
    "# [-1.3159745]"
   ],
   "metadata": {
    "collapsed": false,
    "ExecuteTime": {
     "end_time": "2024-05-23T07:42:45.688500Z",
     "start_time": "2024-05-23T07:42:45.678305Z"
    }
   },
   "id": "ec266d284c42ef15",
   "execution_count": 4
  },
  {
   "cell_type": "markdown",
   "source": [
    "Вычислим полученные лямбды по формулам"
   ],
   "metadata": {
    "collapsed": false
   },
   "id": "60d3c8266956fdd0"
  },
  {
   "cell_type": "code",
   "outputs": [
    {
     "name": "stdout",
     "output_type": "stream",
     "text": [
      "lambda_1 = 6.999955338251561e-05\n",
      "lambda_2 = 4.00033875088364e-05\n"
     ]
    }
   ],
   "source": [
    "lambda_1 = res_x[0] * 31.66675 * 10 ** (-5)\n",
    "lambda_2 = -res_z[0] * 3.039830 * 10 ** (-5)\n",
    "print(f'lambda_1 = {lambda_1}\\nlambda_2 = {lambda_2}') \\\n",
    "    # lambda_1 = 6.999955338251561e-05\n",
    "# lambda_2 = 4.00033875088364e-05"
   ],
   "metadata": {
    "collapsed": false,
    "ExecuteTime": {
     "end_time": "2024-05-23T07:42:45.698022Z",
     "start_time": "2024-05-23T07:42:45.689509Z"
    }
   },
   "id": "ce0735a720370b3d",
   "execution_count": 5
  },
  {
   "cell_type": "markdown",
   "source": [
    "Запишем подынтегральное выражение в виде функции integrand и воспользуемся ей для вычисления EFF.\n",
    "В данном случае нижняя граница интегрирования (l_bound) = $\\lambda_1$, верхняя (u_bound) = $\\lambda_2$.\n",
    "T - аргумент подынтегрального выражения"
   ],
   "metadata": {
    "collapsed": false
   },
   "id": "d3cca30f820822ed"
  },
  {
   "cell_type": "code",
   "outputs": [],
   "source": [
    "def integrand(x, T):\n",
    "    return 1 / ((x ** 5) * (np.exp(1.432 / (T * x)) - 1))\n",
    "\n",
    "\n",
    "def EFF(T, l_bound, u_bound):\n",
    "    return (\n",
    "            64.77 / (T ** 4) * quad(integrand, l_bound, u_bound, args=T, epsabs=accuracy)[0]\n",
    "    )"
   ],
   "metadata": {
    "collapsed": false,
    "ExecuteTime": {
     "end_time": "2024-05-23T07:42:45.703962Z",
     "start_time": "2024-05-23T07:42:45.700029Z"
    }
   },
   "id": "ce66d61d33adcdb9",
   "execution_count": 6
  },
  {
   "cell_type": "code",
   "outputs": [
    {
     "name": "stdout",
     "output_type": "stream",
     "text": [
      "-3085873.2324665114\n"
     ]
    }
   ],
   "source": [
    "## Давайте протестируем взятие интеграла.\n",
    "T = 1000.0\n",
    "print(quad(integrand, lambda_1, lambda_2, args=T, epsabs=accuracy)[0])\n",
    "# -3085873.2324665096 - вычисленный интеграл в WolframAlpha"
   ],
   "metadata": {
    "collapsed": false,
    "ExecuteTime": {
     "end_time": "2024-05-23T07:42:45.712052Z",
     "start_time": "2024-05-23T07:42:45.704970Z"
    }
   },
   "id": "25d7461a3279f01c",
   "execution_count": 7
  },
  {
   "cell_type": "code",
   "outputs": [
    {
     "name": "stdout",
     "output_type": "stream",
     "text": [
      "T = 1000\n",
      "EFF_0 = -0.00019987200926685595\n",
      "T = 2000\n",
      "EFF_1 = -0.8057657916443762\n",
      "T = 3000\n",
      "EFF_2 = -8.254919402732305\n",
      "T = 4000\n",
      "EFF_3 = -21.060996692103878\n",
      "T = 5000\n",
      "EFF_4 = -31.821521264911222\n",
      "T = 6000\n",
      "EFF_5 = -37.679683945031\n",
      "T = 7000\n",
      "EFF_6 = -39.30610173925311\n",
      "T = 8000\n",
      "EFF_7 = -38.22217001451057\n",
      "T = 9000\n",
      "EFF_8 = -35.69935643933249\n"
     ]
    }
   ],
   "source": [
    "ans = []\n",
    "T0 = 1000\n",
    "step = 1000\n",
    "for i in range(9):\n",
    "    T = T0 + i * step\n",
    "    print(f\"T = {T}\")\n",
    "\n",
    "    t_res = EFF(T, lambda_1, lambda_2)\n",
    "    ans.append(t_res)\n",
    "    print(f'EFF_{i} = {t_res}')"
   ],
   "metadata": {
    "collapsed": false,
    "ExecuteTime": {
     "end_time": "2024-05-23T07:42:45.719497Z",
     "start_time": "2024-05-23T07:42:45.713056Z"
    }
   },
   "id": "a330f023720cbb18",
   "execution_count": 8
  }
 ],
 "metadata": {
  "kernelspec": {
   "display_name": "Python 3",
   "language": "python",
   "name": "python3"
  },
  "language_info": {
   "codemirror_mode": {
    "name": "ipython",
    "version": 2
   },
   "file_extension": ".py",
   "mimetype": "text/x-python",
   "name": "python",
   "nbconvert_exporter": "python",
   "pygments_lexer": "ipython2",
   "version": "2.7.6"
  }
 },
 "nbformat": 4,
 "nbformat_minor": 5
}
