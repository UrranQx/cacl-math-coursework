{
 "cells": [
  {
   "cell_type": "markdown",
   "source": [
    "\n",
    "# Задание N 05. Исследование зависимости светимости от температуры для абсолютно черного тела.\n",
    "\n",
    "Абсолютно черное тело излучает энергию пропорционально четвертой степени температуры\n",
    "$$ E = 36.9 * 10^{-12} T^4 $$\n",
    "(E-мощность излучения в вт/см, Т-температура в градусах Кельвина).\n",
    "Часть общей энергии, заключенная в видимом спектре частот, с длиной волны от $\\lambda_1$ до $\\lambda_2$ находится интегрированием уравнения Планка:\n",
    "\n",
    "$$\n",
    "E_{видимая} = E_{в} = \\int\\limits_{\\lambda_1}^{\\lambda_2} \n",
    "\\frac{2.39 * 10^{-11}dx}{x^{5}(e^{\\frac{1.432}{Tx}} - 1)} \n",
    "$$\n",
    "\n"
   ],
   "metadata": {
    "collapsed": false
   },
   "id": "461f9168c083d154"
  },
  {
   "cell_type": "markdown",
   "source": [
    "Тогда светимость (в процентах) рассчитывается по формуле:\n",
    "$$\n",
    "EFF = \\frac{E_{в}}{E} * 100\\% = \\frac{64.77}{T^4} * \\int\\limits_{\\lambda_1}^{\\lambda_2} \n",
    "\\frac{dx}{x^{5}(e^{\\frac{1.432}{Tx}} - 1)} \n",
    "$$\n"
   ],
   "metadata": {
    "collapsed": false
   },
   "id": "2cc036e2e95899c4"
  },
  {
   "cell_type": "markdown",
   "source": [
    "$$\n",
    "\\lambda_1 = y * 31.66675 * 10^{-5},\n",
    "        где\\ y\\ -\\ корень\\ уравнения:\n",
    "        \\\\2 * \\sqrt{x} = \\cos{\\frac{\\pi*x}{2}}\n",
    "        \\\\ Найдем\\ решение\\ уравнения \\ и \\ получим\\ \\\\\n",
    "        y = x = 0.221050639495735\\ =>\n",
    "        \\\\ \\lambda_1 = 6.999955338251567 * 10^{-5}\n",
    "$$\n",
    "\n"
   ],
   "metadata": {
    "collapsed": false
   },
   "id": "86f26c05529b34a6"
  },
  {
   "cell_type": "markdown",
   "source": [
    "$$\n",
    "\\lambda_2 = - z * 3.039830 * 10^{-5},\n",
    "\\\\ где\\ z\\ -\\ значение,\\ минимизирующее\\ f(z)\\ на\\ [-2, -1]\n",
    "        \\\\ f(z) = (e^z)*(2*z^{2}-4) + (2*z^{2}-1)^{2} + e^{2*z} - 3*z^{4}\n",
    "        \\\\ Найдем\\ значение\\ z\\ и \\ получим\\ \\\\\n",
    "        \\ z = -1.3159745 =>\n",
    "        \\\\ \\lambda_2 = 4.000338764335*10^{-5}\n",
    "$$\n"
   ],
   "metadata": {
    "collapsed": false
   },
   "id": "c0e516f5508c39c5"
  },
  {
   "cell_type": "markdown",
   "source": [
    "#### Вычислить EFF в диапазоне температур от Т=1000 К до Т=9000 К с шагом 1000 К.\n",
    "\n",
    "**По полученным данным построить график светимости от\n",
    "температуры, взяв достаточное количество точек.**\n",
    "\n",
    "**Оценить погрешность результата и влияние на\n",
    "точность погрешности в задании $\\lambda_1$ и $\\lambda_2$**"
   ],
   "metadata": {
    "collapsed": false
   },
   "id": "3a739dc84d5657a4"
  },
  {
   "cell_type": "code",
   "outputs": [],
   "source": [
    "\"\"\"\n",
    "lambda1 = y * 31.66675 * 10**(-5),\n",
    "    где y - корень уравнения:\n",
    "    2 * sqrt(x) = cos((PI*x)/2)\n",
    "    x ~= 0.221050639495735\n",
    "\n",
    "lambda2 = -z * 3.039830 * 10**(-5),\n",
    "    где z - значение, минимизирующее f(z) на [-2, -1]\n",
    "    f(z) = (e**z)*(2*z**2-4) + (2*z**2-1)**2 + e**(2*z) - 3*z**4\n",
    "\n",
    "\n",
    "EFF = (E_в / E) * 100% =\n",
    "64.77 / (T**4) * (integrate from lambda1 to lambda 2:\n",
    "    dx / ((x**5) * (e**(1.432/(Tx)) - 1) )\n",
    "\"\"\"\n",
    "print(\n",
    "    \"Для решения этой задачи и был написан этот блокнот. Достаточно просто запустить ниже написанные блоки кода по очереди\")"
   ],
   "metadata": {
    "collapsed": false
   },
   "id": "43ffe0396fde2594",
   "execution_count": null
  },
  {
   "cell_type": "markdown",
   "source": [
    "Напишем функции для нахождения x и z"
   ],
   "metadata": {
    "collapsed": false
   },
   "id": "805420adaec423e3"
  },
  {
   "cell_type": "code",
   "outputs": [],
   "source": [
    "import matplotlib.pyplot as plt\n",
    "import scipy.optimize as optimize\n",
    "from scipy.integrate import quad\n",
    "import numpy as np\n",
    "from math import sqrt, cos, pi\n",
    "\n",
    "accuracy = 1e-16\n",
    "\n",
    "\n",
    "def fun_x(x):\n",
    "    return 2 * sqrt(x[0]) - cos((pi * x[0]) / 2)\n",
    "\n",
    "\n",
    "def fun_z(z):\n",
    "    return (np.e ** z) * (2 * z ** 2 - 4) + (2 * z ** 2 - 1) ** 2 + np.e ** (2 * z) - 3 * z ** 4\n"
   ],
   "metadata": {
    "collapsed": false
   },
   "id": "28511ae6ab1fe97c",
   "execution_count": null
  },
  {
   "cell_type": "markdown",
   "source": [
    "Найдем х используя метод fsolve"
   ],
   "metadata": {
    "collapsed": false
   },
   "id": "623b8ef04d264b5d"
  },
  {
   "cell_type": "code",
   "outputs": [],
   "source": [
    "res_x = optimize.fsolve(fun_x, np.array([0]))\n",
    "print(res_x)\n",
    "# [0.22105064]"
   ],
   "metadata": {
    "collapsed": false
   },
   "id": "c02db429981882ba",
   "execution_count": null
  },
  {
   "cell_type": "markdown",
   "source": [
    "Найдем значение z, минимизирующее f(z) на промежутке [-2,-1]"
   ],
   "metadata": {
    "collapsed": false
   },
   "id": "3314fed33a0107a8"
  },
  {
   "cell_type": "code",
   "outputs": [],
   "source": [
    "lower_bound = -2\n",
    "upper_bound = -1\n",
    "bounds = optimize.Bounds(lower_bound, upper_bound)\n",
    "res_z = optimize.minimize(fun_z,\n",
    "                          np.array((lower_bound + upper_bound) / 2),\n",
    "                          bounds=bounds,\n",
    "                          method='TNC',\n",
    "                          tol=accuracy).x\n",
    "print(res_z)\n",
    "# [-1.3159745]"
   ],
   "metadata": {
    "collapsed": false
   },
   "id": "ec266d284c42ef15",
   "execution_count": null
  },
  {
   "cell_type": "markdown",
   "source": [
    "Вычислим полученные лямбды по формулам. Заметим, что для того, чтобы наши расчеты имели какой-то смысл, $\\lambda_1$ должна быть меньше $\\lambda_2$.\n",
    "Поэтому отсортируем их в порядке возрастания"
   ],
   "metadata": {
    "collapsed": false
   },
   "id": "60d3c8266956fdd0"
  },
  {
   "cell_type": "code",
   "outputs": [],
   "source": [
    "L_1 = res_x[0] * 31.66675 * 10 ** (-5)\n",
    "L_2 = -res_z[0] * 3.039830 * 10 ** (-5)\n",
    "L_1, L_2 = sorted([L_1, L_2])\n",
    "print(f'TEST: lambda_1 = {L_1}; lambda_2 = {L_2}')\n",
    "\n",
    "# lambda_1 = 4.00033875088364e-05\n",
    "# lambda_2 = 6.999955338251561e-05"
   ],
   "metadata": {
    "collapsed": false
   },
   "id": "ce0735a720370b3d",
   "execution_count": null
  },
  {
   "cell_type": "markdown",
   "source": [
    "Для повторного поиска лямбд напишем функцию, благодаря которой мы сможем находить лямбды с разной точностью методов модуля scipy.optimize для нахождения х и минимизации z"
   ],
   "metadata": {
    "collapsed": false
   },
   "id": "28b348d4a4c966ba"
  },
  {
   "cell_type": "code",
   "outputs": [],
   "source": [
    "def get_lambdas(accuracy, fun_x, fun_z):\n",
    "    res_x = optimize.fsolve(fun_x, np.array([0]), xtol=accuracy)\n",
    "    print(f'INFO: res_x = {res_x}')\n",
    "    # [0.22105064]\n",
    "\n",
    "    lower_bound = -2\n",
    "    upper_bound = -1\n",
    "    bounds = optimize.Bounds(lower_bound, upper_bound)\n",
    "    res_z = optimize.minimize(fun_z,\n",
    "                              np.array((lower_bound + upper_bound) / 2),\n",
    "                              bounds=bounds,\n",
    "                              method='TNC',\n",
    "                              tol=accuracy).x\n",
    "    print(f'INFO: res_z = {res_z}')\n",
    "    # [-1.3159745]\n",
    "    L_1 = res_x[0] * 31.66675 * 10 ** (-5)\n",
    "    L_2 = -res_z[0] * 3.039830 * 10 ** (-5)\n",
    "    L_1, L_2 = sorted([L_1, L_2])\n",
    "    print(f'INFO: lambda_1 = {L_1}; lambda_2 = {L_2}')\n",
    "\n",
    "    # lambda_1 = 4.00033875088364e-05\n",
    "    # lambda_2 = 6.999955338251561e-05\n",
    "    return L_1, L_2"
   ],
   "metadata": {
    "collapsed": false
   },
   "id": "f132efb95f9dd2e8",
   "execution_count": null
  },
  {
   "cell_type": "markdown",
   "source": [
    "Запишем подынтегральное выражение в виде функции integrand и воспользуемся ей для вычисления EFF.\n",
    "В данном случае нижняя граница интегрирования (l_bound) = $\\lambda_1$, верхняя (u_bound) = $\\lambda_2$.\n",
    "T - аргумент подынтегрального выражения"
   ],
   "metadata": {
    "collapsed": false
   },
   "id": "d3cca30f820822ed"
  },
  {
   "cell_type": "code",
   "outputs": [],
   "source": [
    "def integrand(x, T):\n",
    "    return 1 / ((x ** 5) * (np.exp(1.432 / (T * x)) - 1))\n",
    "\n",
    "\n",
    "def EFF(T, l_bound, u_bound):\n",
    "    return (\n",
    "            64.77 / (T ** 4) * quad(integrand, l_bound, u_bound, args=T, epsabs=accuracy)[0]\n",
    "    )"
   ],
   "metadata": {
    "collapsed": false
   },
   "id": "ce66d61d33adcdb9",
   "execution_count": null
  },
  {
   "cell_type": "code",
   "outputs": [],
   "source": [
    "## Давайте протестируем взятие интеграла.\n",
    "T = 1000.0\n",
    "lambda_1, lambda_2 = get_lambdas(accuracy, fun_x, fun_z)\n",
    "print(\n",
    "    f'TEST:\\n!wa integrate from {lambda_1} to {lambda_2} dx / ((x^5)(e^((1.432)/{T} * x) - 1) = {quad(integrand, lambda_1, lambda_2, args=T, epsabs=accuracy)[0]}')\n",
    "# Получаем такой запрос для WolframAlpha\n",
    "# integrate from 4.00033875088364*10^(-5)  to  6.999955338251561*10^(-5): dx/((x ** 5) * (e^(1.432 / (1000 * x)) - 1))\n",
    "# 3085873.23246651 - вычисленный интеграл в WolframAlpha\n",
    "# Или, как он выводит - 3.08587×10^6\n",
    "\n",
    "# Значения должны совпадать (при тестировании было достигнуто совпадение до 3-х знаков после запятой"
   ],
   "metadata": {
    "collapsed": false
   },
   "id": "25d7461a3279f01c",
   "execution_count": null
  },
  {
   "cell_type": "markdown",
   "source": [
    "Замечательно, теперь, убедившись, что все работает и интегрируется так, как должно напишем метод, чтобы вычислять значения EFF для соответсвующий ей температуры"
   ],
   "metadata": {
    "collapsed": false
   },
   "id": "f98f30b8b59dfb8b"
  },
  {
   "cell_type": "code",
   "outputs": [],
   "source": [
    "def calculate_EFF(lambda_1, lambda_2, label='EFF'):\n",
    "    ans = []\n",
    "    T0 = 1000\n",
    "    step = 1000\n",
    "    for i in range(9):\n",
    "        T = T0 + i * step\n",
    "        # t_res = EFF(T, lambda_1, lambda_2)\n",
    "        ans.append(EFF(T, lambda_1, lambda_2))\n",
    "\n",
    "    T_values = list(range(T0, T0 + step * len(ans), step))\n",
    "\n",
    "    return np.array(ans), T_values"
   ],
   "metadata": {
    "collapsed": false
   },
   "id": "a330f023720cbb18",
   "execution_count": null
  },
  {
   "cell_type": "markdown",
   "source": [
    "# Вычислим EFF с исходными значениями $\\lambda$"
   ],
   "metadata": {
    "collapsed": false
   },
   "id": "710d002f777a5989"
  },
  {
   "cell_type": "code",
   "outputs": [],
   "source": [
    "lambda_1, lambda_2 = get_lambdas(accuracy, fun_x, fun_z)\n",
    "# Вычислим EFF с исходными значениями lambda\n",
    "original_EFF, T_values = calculate_EFF(lambda_1, lambda_2)\n"
   ],
   "metadata": {
    "collapsed": false
   },
   "id": "70eb504718c59d54",
   "execution_count": null
  },
  {
   "cell_type": "code",
   "outputs": [],
   "source": [
    "print(f'INFO: original EFF: {original_EFF}')"
   ],
   "metadata": {
    "collapsed": false
   },
   "id": "da49bff6bc786b9e",
   "execution_count": null
  },
  {
   "cell_type": "markdown",
   "source": [
    "##### Создадим некоторое отклонение от исходных значений lambda\n",
    "##### А также изменим немного точность, при которых были вычислены х и z: default - 1e-16"
   ],
   "metadata": {
    "collapsed": false
   },
   "id": "5a5fdad50a02b47a"
  },
  {
   "cell_type": "code",
   "outputs": [],
   "source": [
    "delta = 1e-6  # Вместо дельты может быть погрешностью измерений прибора или ошибка округления, поэтому мы также добавим случайность в уравнение.\n",
    "accuracy = 1e-16"
   ],
   "metadata": {
    "collapsed": false
   },
   "id": "a7a5a78e4f41020",
   "execution_count": null
  },
  {
   "cell_type": "code",
   "outputs": [],
   "source": [
    "# Получаем\n",
    "new_lambdas = get_lambdas(accuracy, fun_x, fun_z)\n",
    "lambda_1_new = new_lambdas[0] + delta * np.random.uniform(-1, 1)  # lambda_1 * 0.01\n",
    "lambda_2_new = new_lambdas[1] + delta * np.random.uniform(-1, 1)  # lambda_2 * 0.01\n",
    "\n",
    "print(f\"INFO: Original lambda_1: {lambda_1}, Original lambda_2: {lambda_2}\")\n",
    "print(f\"INFO: New lambda_1: {lambda_1_new}, New lambda_2: {lambda_2_new}\")\n",
    "print(f\"INFO: ABS Difference in lambda_1: {np.abs(lambda_1 - lambda_1_new)}\")\n",
    "print(f\"INFO: ABS Difference in lambda_2: {np.abs(lambda_2 - lambda_2_new)}\")"
   ],
   "metadata": {
    "collapsed": false
   },
   "id": "8c0c81e08bc089ac",
   "execution_count": null
  },
  {
   "cell_type": "markdown",
   "source": [
    "# Вычислим EFF для новых значений лямбда\n",
    "> И сравним полученный результат с ранее полученными значениями. "
   ],
   "metadata": {
    "collapsed": false
   },
   "id": "991ddfb34a2ce17b"
  },
  {
   "cell_type": "code",
   "outputs": [],
   "source": [
    "new_EFF, T_values2 = calculate_EFF(lambda_1_new, lambda_2_new, label='New EFF')"
   ],
   "metadata": {
    "collapsed": false
   },
   "id": "a835850101990611",
   "execution_count": null
  },
  {
   "cell_type": "markdown",
   "source": [
    " # Вычисляем разность между оригинальным значением and новым значением EFF"
   ],
   "metadata": {
    "collapsed": false
   },
   "id": "90a453765eee2973"
  },
  {
   "cell_type": "code",
   "outputs": [],
   "source": [
    "diff_EFF = np.abs(original_EFF - new_EFF)\n",
    "div_diff_EFF = diff_EFF / original_EFF * 100"
   ],
   "metadata": {
    "collapsed": false
   },
   "id": "f379677a6354b892",
   "execution_count": null
  },
  {
   "cell_type": "code",
   "outputs": [],
   "source": [
    "print(f\"INFO: Original EFF: {original_EFF}\")"
   ],
   "metadata": {
    "collapsed": false
   },
   "id": "d6be5e6428ae12cf",
   "execution_count": null
  },
  {
   "cell_type": "code",
   "outputs": [],
   "source": [
    "print(f\"INFO: New EFF: {new_EFF}\")"
   ],
   "metadata": {
    "collapsed": false
   },
   "id": "767b3aa1c718240f",
   "execution_count": null
  },
  {
   "cell_type": "code",
   "outputs": [],
   "source": [
    "print(f\"INFO: Difference in EFF: {diff_EFF}\")"
   ],
   "metadata": {
    "collapsed": false
   },
   "id": "6ac4dfa40f347e84",
   "execution_count": null
  },
  {
   "cell_type": "code",
   "outputs": [],
   "source": [
    "print(f\"INFO: div_diff_EFF: {div_diff_EFF}\")"
   ],
   "metadata": {
    "collapsed": false
   },
   "id": "1b0f2411a9be8867",
   "execution_count": null
  },
  {
   "cell_type": "markdown",
   "source": [
    "> Нарисуем их графики.\n",
    " \n",
    "> А также графики погрешности (которые от запуска к запуску могут варьироваться из-за элемента случайности)."
   ],
   "metadata": {
    "collapsed": false
   },
   "id": "a467cb11fc31c58e"
  },
  {
   "cell_type": "code",
   "outputs": [],
   "source": [
    "plt.figure(figsize=(10, 6))\n",
    "plt.plot(T_values, original_EFF, marker='.')\n",
    "plt.title('EFF and new EFF vs T')\n",
    "plt.xlabel('Temperature' + r' ($Kelvins$)')\n",
    "plt.ylabel('EFF (%)')\n",
    "plt.plot(T_values2, new_EFF, marker=',', color='green')\n",
    "plt.legend(['Original EFF', 'New EFF'])\n",
    "plt.grid(True, alpha=0.2, linestyle=':')\n",
    "plt.show()"
   ],
   "metadata": {
    "collapsed": false
   },
   "id": "f0bf7f593e2c358d",
   "execution_count": null
  },
  {
   "cell_type": "code",
   "outputs": [],
   "source": [
    "plt.figure(figsize=(10, 6))\n",
    "plt.plot(T_values, diff_EFF, marker='.', color='red')\n",
    "plt.title('Difference in EFF vs T')\n",
    "plt.xlabel('Temperature' + r' ($Kelvins$)')\n",
    "plt.ylabel('Difference in EFF')\n",
    "plt.grid(True, alpha=0.2, linestyle=':')\n",
    "\n",
    "plt.show()"
   ],
   "metadata": {
    "collapsed": false
   },
   "id": "91419da52c2f6d10",
   "execution_count": null
  },
  {
   "cell_type": "code",
   "outputs": [],
   "source": [
    "plt.figure(figsize=(10, 6))\n",
    "plt.plot(T_values, div_diff_EFF, marker='.', color='magenta')\n",
    "plt.title('Difference in EFF (relatively) vs T')\n",
    "plt.xlabel('Temperature' + r' ($Kelvins$)')\n",
    "plt.ylabel('Difference in EFF (%)')\n",
    "plt.grid(True, alpha=0.2, linestyle=':')\n",
    "\n",
    "plt.show()"
   ],
   "metadata": {
    "collapsed": false
   },
   "id": "62b7c02bcb8b9a10",
   "execution_count": null
  }
 ],
 "metadata": {
  "kernelspec": {
   "display_name": "Python 3",
   "language": "python",
   "name": "python3"
  },
  "language_info": {
   "codemirror_mode": {
    "name": "ipython",
    "version": 2
   },
   "file_extension": ".py",
   "mimetype": "text/x-python",
   "name": "python",
   "nbconvert_exporter": "python",
   "pygments_lexer": "ipython2",
   "version": "2.7.6"
  }
 },
 "nbformat": 4,
 "nbformat_minor": 5
}
